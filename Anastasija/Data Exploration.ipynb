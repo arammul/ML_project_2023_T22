{
 "cells": [
  {
   "cell_type": "code",
   "execution_count": null,
   "id": "a4e23c8b",
   "metadata": {},
   "outputs": [],
   "source": [
    "import pandas as pd\n",
    "import numpy as np"
   ]
  },
  {
   "cell_type": "code",
   "execution_count": null,
   "id": "da1fbe5d",
   "metadata": {
    "scrolled": true
   },
   "outputs": [],
   "source": [
    "df_raw = pd.read_csv(\"../data/train_logs.csv\")\n",
    "df_raw.head()"
   ]
  },
  {
   "cell_type": "markdown",
   "id": "393d99cc",
   "metadata": {},
   "source": [
    "**id** - The unique ID of the essay\n",
    "\n",
    "**event_id** - The index of the event, ordered chronologically\n",
    "\n",
    "**down_time** - The time of the down event in milliseconds\n",
    "\n",
    "**up_time** - The time of the up event in milliseconds\n",
    "\n",
    "**action_time** - The duration of the event (the difference between down_time and up_time)\n",
    "\n",
    "**activity** - The category of activity which the event belongs to\n",
    "\n",
    "- **Nonproduction** - The event does not alter the text in any way\n",
    "\n",
    "- **Input** - The event adds text to the essay\n",
    "\n",
    "- **Remove/Cut** - The event removes text from the essay\n",
    "\n",
    "- **Paste** - The event changes the text through a paste input\n",
    "\n",
    "- **Replace** - The event replaces a section of text with another string\n",
    "\n",
    "- **Move From [x1, y1] To [x2, y2]** - The event moves a section of text spanning character index x1, y1 to a new location x2, y2\n",
    "\n",
    "**down_event** - The name of the event when the key/mouse is pressed\n",
    "\n",
    "**up_event** - The name of the event when the key/mouse is released\n",
    "\n",
    "**text_change** - The text that changed as a result of the event (if any)\n",
    "\n",
    "**cursor_position** - The character index of the text cursor after the event\n",
    "\n",
    "**word_count** - The word count of the essay after the event"
   ]
  },
  {
   "cell_type": "code",
   "execution_count": null,
   "id": "b616f274",
   "metadata": {},
   "outputs": [],
   "source": [
    "# Creating a new df based on the number of essays\n",
    "# More features (columns) will be added to this df\n",
    "\n",
    "df = pd.DataFrame({\n",
    "    'id': df_raw[\"id\"].unique()\n",
    "})\n",
    "df.head()"
   ]
  },
  {
   "cell_type": "code",
   "execution_count": null,
   "id": "04118eb3",
   "metadata": {},
   "outputs": [],
   "source": [
    "# Calculating the final word count for each essay\n",
    "df_word = df_raw.groupby(\"id\")['word_count'].max()\n",
    "df = pd.merge(df, df_word, on=\"id\", how=\"left\")"
   ]
  },
  {
   "cell_type": "code",
   "execution_count": null,
   "id": "035686c7",
   "metadata": {},
   "outputs": [],
   "source": [
    "# Turning milliseconds into minutes\n",
    "df_raw['current_min'] = df_raw[\"down_time\"]//60000"
   ]
  },
  {
   "cell_type": "code",
   "execution_count": null,
   "id": "6e798cbf",
   "metadata": {},
   "outputs": [],
   "source": [
    "#Counting the number of events per essay\n",
    "df_event = df_raw.groupby(\"id\")['event_id'].count()\n",
    "\n",
    "df = pd.merge(df, df_event, on=\"id\", how=\"left\")\n",
    "df = df.rename(columns={\"event_id\": \"event_count\"})"
   ]
  },
  {
   "cell_type": "code",
   "execution_count": null,
   "id": "f36e27f7",
   "metadata": {},
   "outputs": [],
   "source": [
    "# Calculating the time spend on writing the essay\n",
    "df_time = df_raw.groupby(\"id\")['current_min'].max()\n",
    "df = pd.merge(df, df_time, on=\"id\", how=\"left\")\n",
    "df = df.rename(columns={\"current_min\": \"writing_time_min\"})"
   ]
  },
  {
   "cell_type": "code",
   "execution_count": null,
   "id": "563f840d",
   "metadata": {},
   "outputs": [],
   "source": [
    "# Calculating events per minute\n",
    "df['events_per_min'] = df[\"event_count\"] / df['writing_time_min']"
   ]
  },
  {
   "cell_type": "code",
   "execution_count": null,
   "id": "b4f70f5d",
   "metadata": {},
   "outputs": [],
   "source": [
    "# Calculating the number of TEXT changes made during the writing process\n",
    "filter_text_change = df_raw[\"text_change\"]!=\"NoChange\"\n",
    "df_filtered = df_raw[filter_text_change]\n",
    "df_text_change = df_filtered.groupby(\"id\")['text_change'].count()\n",
    "\n",
    "df = pd.merge(df, df_text_change, on=\"id\", how=\"left\")"
   ]
  },
  {
   "cell_type": "code",
   "execution_count": null,
   "id": "72c32853",
   "metadata": {},
   "outputs": [],
   "source": [
    "df = df.rename(columns={\"text_change\": \"text_change_count\"})"
   ]
  },
  {
   "cell_type": "code",
   "execution_count": null,
   "id": "51506060",
   "metadata": {},
   "outputs": [],
   "source": [
    "# Calculating text changes per minute\n",
    "df['text_changes_per_min'] = df[\"text_change_count\"] / df['writing_time_min']"
   ]
  },
  {
   "cell_type": "code",
   "execution_count": null,
   "id": "5c580c8c",
   "metadata": {},
   "outputs": [],
   "source": [
    "# Calculating the number of sentences (based on the number of full stops)\n",
    "sentence_filter = df_raw[(df_raw[\"text_change\"].str.match('\\.')) & (df_raw['activity'] != 'Remove/Cut')] \n",
    "sentence_filter = df_raw[df_raw[\"up_event\"] == '.']\n",
    "df_sentence_count = sentence_filter.groupby(\"id\")['text_change'].count()\n",
    "\n",
    "df = pd.merge(df, df_sentence_count, on=\"id\", how=\"left\")"
   ]
  },
  {
   "cell_type": "code",
   "execution_count": null,
   "id": "3156e683",
   "metadata": {},
   "outputs": [],
   "source": [
    "df = df.rename(columns={\"text_change\": \"sentence_count\"})"
   ]
  },
  {
   "cell_type": "code",
   "execution_count": null,
   "id": "dce664c5",
   "metadata": {},
   "outputs": [],
   "source": [
    "# Calculating total number of different activities\n",
    "for activity in ['Input', 'Remove/Cut', 'Paste', 'Replace', 'Nonproduction']:\n",
    "    df_activity_count = df_raw[df_raw['activity'] == activity].groupby(\"id\")['activity'].count()\n",
    "    column_name = f'{activity}_count'\n",
    "    df_activity_count.name = column_name\n",
    "    df = pd.merge(df, df_activity_count, on=\"id\", how=\"left\")\n",
    "    df[column_name] = df[column_name].fillna(0)"
   ]
  },
  {
   "cell_type": "code",
   "execution_count": null,
   "id": "dcf71343",
   "metadata": {},
   "outputs": [],
   "source": [
    "# Pauses\n",
    "df_raw['IKI'] = df_raw['down_time'] - df_raw.groupby('id')['up_time'].shift(1)\n",
    "df_raw['IKI'] = df_raw['IKI'].fillna(0)\n",
    "df_raw['IKI'] = df_raw['IKI'].clip(0)\n",
    "\n",
    "PAUSE_THRESHOLD = 2000\n",
    "\n",
    "# Total number of pauses (over 2000 ms) during writing process\n",
    "pauses_count = df_raw[df_raw['IKI'] > PAUSE_THRESHOLD].groupby('id')['IKI'].count()\n",
    "pauses_count.name = 'pauses_count'\n",
    "df = pd.merge(df, pauses_count, on=\"id\", how=\"left\")"
   ]
  },
  {
   "cell_type": "code",
   "execution_count": null,
   "id": "822f723e",
   "metadata": {},
   "outputs": [],
   "source": [
    "# Average duration of a pause\n",
    "pauses_mean_duration = df_raw[df_raw['IKI'] > PAUSE_THRESHOLD].groupby('id')['IKI'].mean().round(0)\n",
    "pauses_mean_duration.name = 'pause_mean_duration'\n",
    "df = pd.merge(df, pauses_mean_duration, on=\"id\", how=\"left\")"
   ]
  },
  {
   "cell_type": "code",
   "execution_count": null,
   "id": "06869d2f",
   "metadata": {},
   "outputs": [],
   "source": [
    "# Calculating total time of pauses\n",
    "pauses_time_sum = df_raw[df_raw['IKI'] > PAUSE_THRESHOLD].groupby('id')['IKI'].sum()\n",
    "pauses_time_sum.name = 'pauses_time_sum'\n",
    "df = pd.merge(df, pauses_time_sum, on=\"id\", how=\"left\")"
   ]
  },
  {
   "cell_type": "code",
   "execution_count": null,
   "id": "a524b1f2",
   "metadata": {
    "scrolled": false
   },
   "outputs": [],
   "source": [
    "# Calculating writing time in ms\n",
    "writing_time_ms = df_raw.groupby('id')['up_time'].max()\n",
    "writing_time_ms.name = 'writing_time_ms'\n",
    "df = pd.merge(df, writing_time_ms, on=\"id\", how=\"left\")"
   ]
  },
  {
   "cell_type": "code",
   "execution_count": null,
   "id": "3b8fd465",
   "metadata": {},
   "outputs": [],
   "source": [
    "# Average number of pauses per minute\n",
    "df['pause_per_min'] = (df[\"pauses_count\"] / df['writing_time_min']).round(2)\n",
    "\n",
    "# Proportion of pauses during the writing process\n",
    "df['pauses_share'] = (df[\"pauses_time_sum\"] / df['writing_time_ms']).round(2)"
   ]
  },
  {
   "cell_type": "code",
   "execution_count": null,
   "id": "a2ca2bd2",
   "metadata": {},
   "outputs": [],
   "source": [
    "df"
   ]
  },
  {
   "cell_type": "code",
   "execution_count": null,
   "id": "42635f67",
   "metadata": {},
   "outputs": [],
   "source": [
    "#Aleksandra\n",
    "# Activity column group by activities\n",
    "# Pauses (total number, per minute, average)\n",
    "\n",
    "#Yaroslava:\n",
    "# Number of characters (total in the essay, avg per minute)\n",
    "# Overtime (yes or no?)\n",
    "# Average action time\n",
    "\n",
    "#Ehab\n",
    "# Most frequent activity\n",
    "# Average time between events\n",
    "\n",
    "#Anastastija\n",
    "# Move From explore futher..\n",
    "# Number of sentences based on the number of full stops/excl. marks"
   ]
  },
  {
   "cell_type": "markdown",
   "id": "61ba9e86",
   "metadata": {},
   "source": [
    "# Train labels (essay grades)\n"
   ]
  },
  {
   "cell_type": "code",
   "execution_count": null,
   "id": "9819baaa",
   "metadata": {},
   "outputs": [],
   "source": [
    "df_labels = pd.read_csv(\"../data/train_scores.csv\")\n",
    "df_labels.head()"
   ]
  },
  {
   "cell_type": "code",
   "execution_count": null,
   "id": "5cb62d59",
   "metadata": {},
   "outputs": [],
   "source": [
    "import matplotlib.pyplot as plt\n",
    "\n",
    "plt.hist(df_labels['score'], bins = 12)\n",
    "plt.show()"
   ]
  },
  {
   "cell_type": "code",
   "execution_count": null,
   "id": "40f1a4b8",
   "metadata": {},
   "outputs": [],
   "source": [
    "df_labels.groupby('score')['id'].count().plot.bar(width =0.8)"
   ]
  }
 ],
 "metadata": {
  "kernelspec": {
   "display_name": "Python 3 (ipykernel)",
   "language": "python",
   "name": "python3"
  },
  "language_info": {
   "codemirror_mode": {
    "name": "ipython",
    "version": 3
   },
   "file_extension": ".py",
   "mimetype": "text/x-python",
   "name": "python",
   "nbconvert_exporter": "python",
   "pygments_lexer": "ipython3",
   "version": "3.10.0"
  }
 },
 "nbformat": 4,
 "nbformat_minor": 5
}
