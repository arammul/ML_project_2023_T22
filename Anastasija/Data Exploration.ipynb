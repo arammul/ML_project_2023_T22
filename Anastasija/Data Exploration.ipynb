{
 "cells": [
  {
   "cell_type": "code",
   "execution_count": null,
   "id": "7bb83de3",
   "metadata": {},
   "outputs": [],
   "source": [
    "import pandas as pd\n",
    "import numpy as np"
   ]
  },
  {
   "cell_type": "code",
   "execution_count": null,
   "id": "e6d427a9",
   "metadata": {},
   "outputs": [],
   "source": [
    "df_raw = pd.read_csv(\"../data/train_logs.csv\")\n",
    "df_raw.head()"
   ]
  },
  {
   "cell_type": "markdown",
   "id": "a3bbd259",
   "metadata": {},
   "source": [
    "**id** - The unique ID of the essay\n",
    "\n",
    "**event_id** - The index of the event, ordered chronologically\n",
    "\n",
    "**down_time** - The time of the down event in milliseconds\n",
    "\n",
    "**up_time** - The time of the up event in milliseconds\n",
    "\n",
    "**action_time** - The duration of the event (the difference between down_time and up_time)\n",
    "\n",
    "**activity** - The category of activity which the event belongs to\n",
    "\n",
    "- **Nonproduction** - The event does not alter the text in any way\n",
    "\n",
    "- **Input** - The event adds text to the essay\n",
    "\n",
    "- **Remove/Cut** - The event removes text from the essay\n",
    "\n",
    "- **Paste** - The event changes the text through a paste input\n",
    "\n",
    "- **Replace** - The event replaces a section of text with another string\n",
    "\n",
    "- **Move From [x1, y1] To [x2, y2]** - The event moves a section of text spanning character index x1, y1 to a new location x2, y2\n",
    "\n",
    "**down_event** - The name of the event when the key/mouse is pressed\n",
    "\n",
    "**up_event** - The name of the event when the key/mouse is released\n",
    "\n",
    "**text_change** - The text that changed as a result of the event (if any)\n",
    "\n",
    "**cursor_position** - The character index of the text cursor after the event\n",
    "\n",
    "**word_count** - The word count of the essay after the event"
   ]
  },
  {
   "cell_type": "code",
   "execution_count": null,
   "id": "e1ab0435",
   "metadata": {},
   "outputs": [],
   "source": [
    "# Creating a new df based on the number of essays\n",
    "# More features (columns) will be added to this df\n",
    "\n",
    "df = pd.DataFrame({\n",
    "    'id': df_raw[\"id\"].unique()\n",
    "})\n",
    "df.head()"
   ]
  },
  {
   "cell_type": "code",
   "execution_count": null,
   "id": "d857becf",
   "metadata": {},
   "outputs": [],
   "source": [
    "# Calculating the final word count for each essay\n",
    "df_word = df_raw.groupby(\"id\")['word_count'].max()\n",
    "df = pd.merge(df, df_word, on=\"id\", how=\"left\")"
   ]
  },
  {
   "cell_type": "code",
   "execution_count": null,
   "id": "2bba2433",
   "metadata": {},
   "outputs": [],
   "source": [
    "# Turning milliseconds into minutes\n",
    "df_raw['current_min'] = df_raw[\"down_time\"]//60000"
   ]
  },
  {
   "cell_type": "code",
   "execution_count": null,
   "id": "06e8cec1",
   "metadata": {},
   "outputs": [],
   "source": [
    "#Counting the number of events per essay\n",
    "df_event = df_raw.groupby(\"id\")['event_id'].count()\n",
    "\n",
    "df = pd.merge(df, df_event, on=\"id\", how=\"left\")\n",
    "df = df.rename(columns={\"event_id\": \"event_count\"})"
   ]
  },
  {
   "cell_type": "code",
   "execution_count": null,
   "id": "d9dc3777",
   "metadata": {},
   "outputs": [],
   "source": [
    "# Calculating the time spend on writing the essay\n",
    "df_time = df_raw.groupby(\"id\")['current_min'].max()\n",
    "df = pd.merge(df, df_time, on=\"id\", how=\"left\")\n",
    "df = df.rename(columns={\"current_min\": \"writing_time_min\"})"
   ]
  },
  {
   "cell_type": "code",
   "execution_count": null,
   "id": "e2ec5126",
   "metadata": {},
   "outputs": [],
   "source": [
    "# Calculating events per minute\n",
    "df['events_per_min'] = df[\"event_count\"] / df['writing_time_min']"
   ]
  },
  {
   "cell_type": "code",
   "execution_count": null,
   "id": "562708b1",
   "metadata": {},
   "outputs": [],
   "source": [
    "# Calculating the number of TEXT changes made during the writing process\n",
    "filter_text_change = df_raw[\"text_change\"]!=\"NoChange\"\n",
    "df_filtered = df_raw[filter_text_change]\n",
    "df_text_change = df_filtered.groupby(\"id\")['text_change'].count()\n",
    "\n",
    "df = pd.merge(df, df_text_change, on=\"id\", how=\"left\")"
   ]
  },
  {
   "cell_type": "code",
   "execution_count": null,
   "id": "7bb0aaee",
   "metadata": {},
   "outputs": [],
   "source": [
    "df = df.rename(columns={\"text_change\": \"text_change_count\"})"
   ]
  },
  {
   "cell_type": "code",
   "execution_count": null,
   "id": "97d1675b",
   "metadata": {},
   "outputs": [],
   "source": [
    "# Calculating text changes per minute\n",
    "df['text_changes_per_min'] = df[\"text_change_count\"] / df['writing_time_min']"
   ]
  },
  {
   "cell_type": "code",
   "execution_count": null,
   "id": "8c3b7ef1",
   "metadata": {},
   "outputs": [],
   "source": [
    "df"
   ]
  },
  {
   "cell_type": "code",
   "execution_count": null,
   "id": "af44e5b9",
   "metadata": {},
   "outputs": [],
   "source": [
    "# calcullating the start and end time of writing and most frequent activity\n",
    "df_freq = df_raw.groupby(\"id\").agg({\n",
    "    'down_time': ['min', 'max'],\n",
    "    'activity': lambda x: x.value_counts().index[0]  \n",
    "}).reset_index()"
   ]
  },
  {
   "cell_type": "code",
   "execution_count": null,
   "id": "f03516ec",
   "metadata": {},
   "outputs": [],
   "source": [
    "df_freq.columns = ['id', 'start_time', 'end_time', 'most_frequent_activity']"
   ]
  },
  {
   "cell_type": "code",
   "execution_count": null,
   "id": "f24259f7",
   "metadata": {},
   "outputs": [],
   "source": [
    "df_freq"
   ]
  },
  {
   "cell_type": "code",
   "execution_count": null,
   "id": "6adf8b37",
   "metadata": {},
   "outputs": [],
   "source": [
    "df = pd.merge(df, df_freq, on=\"id\", how='left')\n",
    "df.head()"
   ]
  },
  {
   "cell_type": "code",
   "execution_count": null,
   "id": "f7b87398",
   "metadata": {},
   "outputs": [],
   "source": [
    "# Calculating Average action time\n",
    "df['total_writing_time'] = df['end_time'] - df['start_time']\n",
    "df['Avg_time_between_events'] = df['total_writing_time'] / df['event_count']\n",
    "df.head()"
   ]
  },
  {
   "cell_type": "markdown",
   "id": "2f9397e6",
   "metadata": {},
   "source": [
    "# Train labels (essay grades)\n"
   ]
  },
  {
   "cell_type": "code",
   "execution_count": null,
   "id": "3239752b",
   "metadata": {},
   "outputs": [],
   "source": [
    "df_labels = pd.read_csv(\"../data/train_scores.csv\")\n",
    "df_labels.head()"
   ]
  },
  {
   "cell_type": "code",
   "execution_count": null,
   "id": "b6942120",
   "metadata": {
    "scrolled": false
   },
   "outputs": [],
   "source": [
    "import matplotlib.pyplot as plt\n",
    "\n",
    "plt.hist(df_labels['score'], bins = 12)\n",
    "plt.show()"
   ]
  },
  {
   "cell_type": "code",
   "execution_count": null,
   "id": "19b997bd",
   "metadata": {},
   "outputs": [],
   "source": [
    "df_labels.groupby('score')['id'].count().plot.bar(width =0.8)"
   ]
  }
 ],
 "metadata": {
  "kernelspec": {
   "display_name": "Python 3 (ipykernel)",
   "language": "python",
   "name": "python3"
  },
  "language_info": {
   "codemirror_mode": {
    "name": "ipython",
    "version": 3
   },
   "file_extension": ".py",
   "mimetype": "text/x-python",
   "name": "python",
   "nbconvert_exporter": "python",
   "pygments_lexer": "ipython3",
   "version": "3.10.0"
  }
 },
 "nbformat": 4,
 "nbformat_minor": 5
}
